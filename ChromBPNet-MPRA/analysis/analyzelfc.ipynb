{
 "cells": [
  {
   "cell_type": "code",
   "execution_count": 2,
   "metadata": {},
   "outputs": [],
   "source": [
    "import pandas as pd\n",
    "import numpy as np"
   ]
  },
  {
   "cell_type": "code",
   "execution_count": 3,
   "metadata": {},
   "outputs": [],
   "source": [
    "seqA = pd.read_csv('../data/seqA.csv')\n",
    "seqB = pd.read_csv('../data/seqB.csv')\n",
    "ChromBPNet_lfc = pd.read_csv('../data/MPRAC24_lfc_allmodels.csv')"
   ]
  },
  {
   "cell_type": "code",
   "execution_count": 4,
   "metadata": {},
   "outputs": [
    {
     "name": "stdout",
     "output_type": "stream",
     "text": [
      "<class 'pandas.core.frame.DataFrame'>\n",
      "RangeIndex: 13139 entries, 0 to 13138\n",
      "Data columns (total 9 columns):\n",
      " #   Column       Non-Null Count  Dtype  \n",
      "---  ------       --------------  -----  \n",
      " 0   Unnamed: 0   13139 non-null  int64  \n",
      " 1   lfc          13139 non-null  float64\n",
      " 2   abs_lfc      13139 non-null  float64\n",
      " 3   A_scores     13139 non-null  float64\n",
      " 4   B_scores     13139 non-null  float64\n",
      " 5   max_alleles  13139 non-null  float64\n",
      " 6   jsd          13139 non-null  float64\n",
      " 7   metadata     13139 non-null  object \n",
      " 8   NN_cluster   13139 non-null  object \n",
      "dtypes: float64(6), int64(1), object(2)\n",
      "memory usage: 924.0+ KB\n",
      "None\n",
      "    Unnamed: 0       lfc   abs_lfc    A_scores    B_scores  max_alleles  \\\n",
      "0            0 -0.024933  0.024933  125.985677  122.883366   125.985677   \n",
      "1            1 -0.004944  0.004944   96.135090   95.660938    96.135090   \n",
      "2            2  0.013987  0.013987  525.229529  532.627407   532.627407   \n",
      "3            3 -0.097180  0.097180  140.757864  127.722690   140.757864   \n",
      "4            4 -0.140333  0.140333  189.269806  164.488520   189.269806   \n",
      "5            5 -0.050349  0.050349  551.554992  524.472023   551.554992   \n",
      "6            6  0.012904  0.012904   47.958013   48.580891    48.580891   \n",
      "7            7 -0.070210  0.070210  155.556782  145.009794   155.556782   \n",
      "8            8 -0.039838  0.039838  169.016719  162.415742   169.016719   \n",
      "9            9  0.222633  0.222633  128.259118  160.242098   160.242098   \n",
      "10          10 -0.072602  0.072602  110.559633  102.817221   110.559633   \n",
      "11          11 -0.069519  0.069519  156.988887  146.445921   156.988887   \n",
      "12          12 -0.012259  0.012259   80.443331   79.463163    80.443331   \n",
      "13          13 -0.102254  0.102254  102.595771   92.623494   102.595771   \n",
      "14          14 -0.138397  0.138397  320.623815  279.183990   320.623815   \n",
      "15          15  0.002475  0.002475  386.773813  387.732085   387.732085   \n",
      "16          16 -0.036191  0.036191  143.267551  138.175322   143.267551   \n",
      "17          17 -0.017965  0.017965  192.929487  189.494528   192.929487   \n",
      "18          18 -0.035448  0.035448  100.042325   96.558169   100.042325   \n",
      "19          19 -0.120218  0.120218  259.969458  230.521990   259.969458   \n",
      "\n",
      "         jsd                                           metadata NN_cluster  \n",
      "0   0.023338  436_rs2248415_ref_optWin_A.436_rs2248415_var_o...         C1  \n",
      "1   0.007630  672_rs4588066_ref_optWin_A.672_rs4588066_var_o...         C1  \n",
      "2   0.010265  34_rs10413237_ref_optWin_A.34_rs10413237_var_o...         C1  \n",
      "3   0.012340  324_rs17046072_ref_stdWin_A.324_rs17046072_var...         C1  \n",
      "4   0.015142  637_rs397967_ref_stdWin_A.637_rs397967_var_std...         C1  \n",
      "5   0.019110  795_rs61781270_ref_optWin_A.795_rs61781270_var...         C1  \n",
      "6   0.010133  799_rs618629_ref_stdWin_A.799_rs618629_var_std...         C1  \n",
      "7   0.017302  382_rs1806980_ref_stdWin_A.382_rs1806980_var_s...         C1  \n",
      "8   0.010832  192_rs12424040_ref_optWin_A.192_rs12424040_var...         C1  \n",
      "9   0.020437  535_rs34164595_ref_optWin_A.535_rs34164595_var...         C1  \n",
      "10  0.016609  611_rs3776870_ref_stdWin_A.611_rs3776870_var_s...         C1  \n",
      "11  0.022635  223_rs13025717_ref_optWin_A.223_rs13025717_var...         C1  \n",
      "12  0.013334  472_rs257318_ref_optWin_A.472_rs257318_var_opt...         C1  \n",
      "13  0.021864  223_rs13025717_ref_stdWin_A.223_rs13025717_var...         C1  \n",
      "14  0.105962  525_rs3041800_ref_stdWin_A.525_rs3041800_var_s...         C1  \n",
      "15  0.011129  791_rs6085343_ref_stdWin_A.791_rs6085343_var_s...         C1  \n",
      "16  0.012540  493_rs2696635_ref_optWin_A.493_rs2696635_var_o...         C1  \n",
      "17  0.013173  526_rs307677_ref_stdWin_A.526_rs307677_var_std...         C1  \n",
      "18  0.005745  866_rs62061790_ref_optWin_A.866_rs62061790_var...         C1  \n",
      "19  0.014109  408_rs199524_ref_stdWin_A.408_rs199524_var_std...         C1  \n"
     ]
    }
   ],
   "source": [
    "print(ChromBPNet_lfc.info())\n",
    "print(ChromBPNet_lfc.head(20))"
   ]
  },
  {
   "cell_type": "code",
   "execution_count": 5,
   "metadata": {},
   "outputs": [
    {
     "name": "stdout",
     "output_type": "stream",
     "text": [
      "<class 'pandas.core.frame.DataFrame'>\n",
      "RangeIndex: 5255 entries, 0 to 5254\n",
      "Data columns (total 33 columns):\n",
      " #   Column                 Non-Null Count  Dtype  \n",
      "---  ------                 --------------  -----  \n",
      " 0   oligo_id               5255 non-null   object \n",
      " 1   vars                   5255 non-null   object \n",
      " 2   oligo_id2              5255 non-null   object \n",
      " 3   rsid                   5255 non-null   object \n",
      " 4   snp_type               5255 non-null   object \n",
      " 5   snp_type2              5255 non-null   object \n",
      " 6   oligo_group            5255 non-null   object \n",
      " 7   seq                    5255 non-null   object \n",
      " 8   seq2                   5255 non-null   object \n",
      " 9   rna_1_var1             5255 non-null   int64  \n",
      " 10  rna_2_var1             5255 non-null   int64  \n",
      " 11  rna_3_var1             5255 non-null   int64  \n",
      " 12  dna_1_var1             5255 non-null   int64  \n",
      " 13  dna_2_var1             5255 non-null   int64  \n",
      " 14  dna_3_var1             5255 non-null   int64  \n",
      " 15  rna_1_var2             5255 non-null   int64  \n",
      " 16  rna_2_var2             5255 non-null   int64  \n",
      " 17  rna_3_var2             5255 non-null   int64  \n",
      " 18  dna_1_var2             5255 non-null   int64  \n",
      " 19  dna_2_var2             5255 non-null   int64  \n",
      " 20  dna_3_var2             5255 non-null   int64  \n",
      " 21  baseMean_expr          5255 non-null   float64\n",
      " 22  log2FoldChange_expr    5255 non-null   float64\n",
      " 23  lfcSE_expr             5255 non-null   float64\n",
      " 24  stat_expr              5255 non-null   float64\n",
      " 25  pvalue_expr            5255 non-null   float64\n",
      " 26  padj_expr              5255 non-null   float64\n",
      " 27  baseMean_allele        5255 non-null   float64\n",
      " 28  log2FoldChange_allele  5255 non-null   float64\n",
      " 29  lfcSE_allele           5255 non-null   float64\n",
      " 30  stat_allele            5255 non-null   float64\n",
      " 31  pvalue_allele          5255 non-null   float64\n",
      " 32  padj_allele            2504 non-null   float64\n",
      "dtypes: float64(12), int64(12), object(9)\n",
      "memory usage: 1.3+ MB\n"
     ]
    }
   ],
   "source": [
    "mpra = pd.read_csv('../data/220518MPRA.csv')\n",
    "mpra.info()"
   ]
  },
  {
   "cell_type": "code",
   "execution_count": 6,
   "metadata": {},
   "outputs": [
    {
     "name": "stdout",
     "output_type": "stream",
     "text": [
      "<class 'pandas.core.frame.DataFrame'>\n",
      "Int64Index: 1877 entries, 0 to 5253\n",
      "Data columns (total 7 columns):\n",
      " #   Column    Non-Null Count  Dtype  \n",
      "---  ------    --------------  -----  \n",
      " 0   seq1      1877 non-null   object \n",
      " 1   seq2      1877 non-null   object \n",
      " 2   lfc       1877 non-null   float64\n",
      " 3   abslfc    1877 non-null   float64\n",
      " 4   metadata  1877 non-null   object \n",
      " 5   rsid      1877 non-null   object \n",
      " 6   region    1877 non-null   object \n",
      "dtypes: float64(2), object(5)\n",
      "memory usage: 117.3+ KB\n"
     ]
    }
   ],
   "source": [
    "mpra_filtered = pd.DataFrame()\n",
    "mpra_filtered['seq1'] = mpra['seq']\n",
    "mpra_filtered['seq2'] = mpra['seq2']\n",
    "mpra_filtered['lfc'] = mpra['log2FoldChange_allele']\n",
    "mpra_filtered['abslfc'] = mpra_filtered['lfc'].abs()\n",
    "mpra_filtered['metadata'] = mpra['vars']\n",
    "mpra_filtered['rsid'] = mpra['rsid']\n",
    "mpra_filtered['region'] = mpra['oligo_group']\n",
    "mpra_filtered.head(20)\n",
    "regions = (\"stdWin\", \"optWin\")\n",
    "mpra_peaks = mpra_filtered[mpra_filtered['region'].isin(regions)]\n",
    "mpra_peaks.info()"
   ]
  },
  {
   "cell_type": "code",
   "execution_count": 7,
   "metadata": {},
   "outputs": [
    {
     "name": "stderr",
     "output_type": "stream",
     "text": [
      "<ipython-input-7-d6f3f65d094f>:1: SettingWithCopyWarning: \n",
      "A value is trying to be set on a copy of a slice from a DataFrame\n",
      "\n",
      "See the caveats in the documentation: https://pandas.pydata.org/pandas-docs/stable/user_guide/indexing.html#returning-a-view-versus-a-copy\n",
      "  mpra_peaks.sort_values('metadata', ascending=False, inplace=True)\n"
     ]
    }
   ],
   "source": [
    "mpra_peaks.sort_values('metadata', ascending=False, inplace=True)\n",
    "mpra_peaks_reindex = mpra_peaks.reset_index(drop=True)"
   ]
  },
  {
   "cell_type": "code",
   "execution_count": 8,
   "metadata": {},
   "outputs": [],
   "source": [
    "ChromBPNet_lfc.sort_values('metadata', ascending=False, inplace=True)\n",
    "ChromBPNet_lfc_reindex = ChromBPNet_lfc.reset_index(drop=True)"
   ]
  },
  {
   "cell_type": "code",
   "execution_count": 9,
   "metadata": {},
   "outputs": [],
   "source": [
    "C1 = ChromBPNet_lfc_reindex[ChromBPNet_lfc_reindex['NN_cluster'] == 'C1'].reset_index(drop=True)\n",
    "C2 = ChromBPNet_lfc_reindex[ChromBPNet_lfc_reindex['NN_cluster'] == 'C2'].reset_index(drop=True)\n",
    "C5 = ChromBPNet_lfc_reindex[ChromBPNet_lfc_reindex['NN_cluster'] == 'C5'].reset_index(drop=True)\n",
    "C8 = ChromBPNet_lfc_reindex[ChromBPNet_lfc_reindex['NN_cluster'] == 'C8'].reset_index(drop=True)\n",
    "C13 = ChromBPNet_lfc_reindex[ChromBPNet_lfc_reindex['NN_cluster'] == 'C13'].reset_index(drop=True)\n",
    "C19 = ChromBPNet_lfc_reindex[ChromBPNet_lfc_reindex['NN_cluster'] == 'C19'].reset_index(drop=True)\n",
    "C24 = ChromBPNet_lfc_reindex[ChromBPNet_lfc_reindex['NN_cluster'] == 'C24'].reset_index(drop=True)"
   ]
  },
  {
   "cell_type": "code",
   "execution_count": 12,
   "metadata": {},
   "outputs": [
    {
     "name": "stdout",
     "output_type": "stream",
     "text": [
      "<class 'pandas.core.frame.DataFrame'>\n",
      "RangeIndex: 1877 entries, 0 to 1876\n",
      "Data columns (total 4 columns):\n",
      " #   Column         Non-Null Count  Dtype  \n",
      "---  ------         --------------  -----  \n",
      " 0   NN_abslfc      1877 non-null   float64\n",
      " 1   MPRA_abslfc    1877 non-null   float64\n",
      " 2   NN_metadata    1877 non-null   object \n",
      " 3   MPRA_metadata  1877 non-null   object \n",
      "dtypes: float64(2), object(2)\n",
      "memory usage: 58.8+ KB\n",
      "None\n",
      "    NN_abslfc  MPRA_abslfc                                        NN_metadata  \\\n",
      "0    0.026262     0.024152  9_rs10207628_var_stdWin_A.9_rs10207628_var_std...   \n",
      "1    0.001479     0.026611  9_rs10207628_var_optWin_A.9_rs10207628_var_opt...   \n",
      "2    0.075855     0.029010  9_rs10207628_ref_stdWin_A.9_rs10207628_var_std...   \n",
      "3    0.102118     0.054821  9_rs10207628_ref_stdWin_A.9_rs10207628_var_std...   \n",
      "4    0.121518     0.027086  9_rs10207628_ref_optWin_A.9_rs10207628_var_opt...   \n",
      "..        ...          ...                                                ...   \n",
      "95   0.021646     0.033236  946_rs6684490_ref_optWin_A.946_rs6684490_var_o...   \n",
      "96   0.031152     0.028279  945_rs668071_ref_stdWin_A.945_rs668071_var_std...   \n",
      "97   0.065103     0.061581  945_rs668071_ref_optWin_A.945_rs668071_var_opt...   \n",
      "98   0.066765     0.013192  944_rs667897_ref_stdWin_A.944_rs667897_var_std...   \n",
      "99   0.050068     0.108506  943_rs6658353_ref_optWin_A.943_rs6658353_var_o...   \n",
      "\n",
      "                                        MPRA_metadata  \n",
      "0   9_rs10207628_var_stdWin_A.9_rs10207628_var_std...  \n",
      "1   9_rs10207628_var_optWin_A.9_rs10207628_var_opt...  \n",
      "2   9_rs10207628_ref_stdWin_A.9_rs10207628_var_std...  \n",
      "3   9_rs10207628_ref_stdWin_A.9_rs10207628_var_std...  \n",
      "4   9_rs10207628_ref_optWin_A.9_rs10207628_var_opt...  \n",
      "..                                                ...  \n",
      "95  946_rs6684490_ref_optWin_A.946_rs6684490_var_o...  \n",
      "96  945_rs668071_ref_stdWin_A.945_rs668071_var_std...  \n",
      "97  945_rs668071_ref_optWin_A.945_rs668071_var_opt...  \n",
      "98  944_rs667897_ref_stdWin_A.944_rs667897_var_std...  \n",
      "99  943_rs6658353_ref_optWin_A.943_rs6658353_var_o...  \n",
      "\n",
      "[100 rows x 4 columns]\n",
      "0.022118326378617506\n"
     ]
    },
    {
     "data": {
      "image/png": "[encoded data removed]",
      "text/plain": [
       "<Figure size 432x288 with 1 Axes>"
      ]
     },
     "metadata": {
      "needs_background": "light"
     },
     "output_type": "display_data"
    }
   ],
   "source": [
    "resultsC1 = pd.DataFrame()\n",
    "resultsC1['NN_abslfc'] = C1['abs_lfc']\n",
    "resultsC1['MPRA_abslfc'] = mpra_peaks_reindex['abslfc']\n",
    "resultsC1['NN_metadata'] = C1['metadata']\n",
    "resultsC1['MPRA_metadata'] = mpra_peaks_reindex['metadata']\n",
    "\n",
    "print(resultsC1.info())\n",
    "print(resultsC1.head(100))\n",
    "ax1 = resultsC1.plot.scatter(x='NN_abslfc', y='MPRA_abslfc', c='DarkBlue')\n",
    "print(resultsC1['NN_abslfc'].corr(resultsC1['MPRA_abslfc']))"
   ]
  },
  {
   "cell_type": "code",
   "execution_count": 14,
   "metadata": {},
   "outputs": [
    {
     "name": "stdout",
     "output_type": "stream",
     "text": [
      "<class 'pandas.core.frame.DataFrame'>\n",
      "RangeIndex: 1877 entries, 0 to 1876\n",
      "Data columns (total 4 columns):\n",
      " #   Column         Non-Null Count  Dtype  \n",
      "---  ------         --------------  -----  \n",
      " 0   NN_abslfc      1877 non-null   float64\n",
      " 1   MPRA_abslfc    1877 non-null   float64\n",
      " 2   NN_metadata    1877 non-null   object \n",
      " 3   MPRA_metadata  1877 non-null   object \n",
      "dtypes: float64(2), object(2)\n",
      "memory usage: 58.8+ KB\n",
      "None\n",
      "    NN_abslfc  MPRA_abslfc                                        NN_metadata  \\\n",
      "0    0.062645     0.024152  9_rs10207628_var_stdWin_A.9_rs10207628_var_std...   \n",
      "1    0.085313     0.026611  9_rs10207628_var_optWin_A.9_rs10207628_var_opt...   \n",
      "2    0.052577     0.029010  9_rs10207628_ref_stdWin_A.9_rs10207628_var_std...   \n",
      "3    0.115221     0.054821  9_rs10207628_ref_stdWin_A.9_rs10207628_var_std...   \n",
      "4    0.042478     0.027086  9_rs10207628_ref_optWin_A.9_rs10207628_var_opt...   \n",
      "..        ...          ...                                                ...   \n",
      "95   0.004430     0.033236  946_rs6684490_ref_optWin_A.946_rs6684490_var_o...   \n",
      "96   0.095977     0.028279  945_rs668071_ref_stdWin_A.945_rs668071_var_std...   \n",
      "97   0.105550     0.061581  945_rs668071_ref_optWin_A.945_rs668071_var_opt...   \n",
      "98   0.173045     0.013192  944_rs667897_ref_stdWin_A.944_rs667897_var_std...   \n",
      "99   0.001529     0.108506  943_rs6658353_ref_optWin_A.943_rs6658353_var_o...   \n",
      "\n",
      "                                        MPRA_metadata  \n",
      "0   9_rs10207628_var_stdWin_A.9_rs10207628_var_std...  \n",
      "1   9_rs10207628_var_optWin_A.9_rs10207628_var_opt...  \n",
      "2   9_rs10207628_ref_stdWin_A.9_rs10207628_var_std...  \n",
      "3   9_rs10207628_ref_stdWin_A.9_rs10207628_var_std...  \n",
      "4   9_rs10207628_ref_optWin_A.9_rs10207628_var_opt...  \n",
      "..                                                ...  \n",
      "95  946_rs6684490_ref_optWin_A.946_rs6684490_var_o...  \n",
      "96  945_rs668071_ref_stdWin_A.945_rs668071_var_std...  \n",
      "97  945_rs668071_ref_optWin_A.945_rs668071_var_opt...  \n",
      "98  944_rs667897_ref_stdWin_A.944_rs667897_var_std...  \n",
      "99  943_rs6658353_ref_optWin_A.943_rs6658353_var_o...  \n",
      "\n",
      "[100 rows x 4 columns]\n",
      "0.01064283978156051\n"
     ]
    },
    {
     "data": {
      "image/png": "[encoded data removed]",
      "text/plain": [
       "<Figure size 432x288 with 1 Axes>"
      ]
     },
     "metadata": {
      "needs_background": "light"
     },
     "output_type": "display_data"
    }
   ],
   "source": [
    "resultsC2 = pd.DataFrame()\n",
    "resultsC2['NN_abslfc'] = C2['abs_lfc']\n",
    "resultsC2['MPRA_abslfc'] = mpra_peaks_reindex['abslfc']\n",
    "resultsC2['NN_metadata'] = C2['metadata']\n",
    "resultsC2['MPRA_metadata'] = mpra_peaks_reindex['metadata']\n",
    "\n",
    "print(resultsC2.info())\n",
    "print(resultsC2.head(100))\n",
    "ax1 = resultsC2.plot.scatter(x='NN_abslfc', y='MPRA_abslfc', c='DarkBlue')\n",
    "print(resultsC2['NN_abslfc'].corr(resultsC2['MPRA_abslfc']))"
   ]
  },
  {
   "cell_type": "code",
   "execution_count": 15,
   "metadata": {},
   "outputs": [
    {
     "name": "stdout",
     "output_type": "stream",
     "text": [
      "<class 'pandas.core.frame.DataFrame'>\n",
      "RangeIndex: 1877 entries, 0 to 1876\n",
      "Data columns (total 4 columns):\n",
      " #   Column         Non-Null Count  Dtype  \n",
      "---  ------         --------------  -----  \n",
      " 0   NN_abslfc      1877 non-null   float64\n",
      " 1   MPRA_abslfc    1877 non-null   float64\n",
      " 2   NN_metadata    1877 non-null   object \n",
      " 3   MPRA_metadata  1877 non-null   object \n",
      "dtypes: float64(2), object(2)\n",
      "memory usage: 58.8+ KB\n",
      "None\n",
      "    NN_abslfc  MPRA_abslfc                                        NN_metadata  \\\n",
      "0    0.010683     0.024152  9_rs10207628_var_stdWin_A.9_rs10207628_var_std...   \n",
      "1    0.013824     0.026611  9_rs10207628_var_optWin_A.9_rs10207628_var_opt...   \n",
      "2    0.063508     0.029010  9_rs10207628_ref_stdWin_A.9_rs10207628_var_std...   \n",
      "3    0.052825     0.054821  9_rs10207628_ref_stdWin_A.9_rs10207628_var_std...   \n",
      "4    0.062677     0.027086  9_rs10207628_ref_optWin_A.9_rs10207628_var_opt...   \n",
      "..        ...          ...                                                ...   \n",
      "95   0.021500     0.033236  946_rs6684490_ref_optWin_A.946_rs6684490_var_o...   \n",
      "96   0.015091     0.028279  945_rs668071_ref_stdWin_A.945_rs668071_var_std...   \n",
      "97   0.014229     0.061581  945_rs668071_ref_optWin_A.945_rs668071_var_opt...   \n",
      "98   0.047595     0.013192  944_rs667897_ref_stdWin_A.944_rs667897_var_std...   \n",
      "99   0.003080     0.108506  943_rs6658353_ref_optWin_A.943_rs6658353_var_o...   \n",
      "\n",
      "                                        MPRA_metadata  \n",
      "0   9_rs10207628_var_stdWin_A.9_rs10207628_var_std...  \n",
      "1   9_rs10207628_var_optWin_A.9_rs10207628_var_opt...  \n",
      "2   9_rs10207628_ref_stdWin_A.9_rs10207628_var_std...  \n",
      "3   9_rs10207628_ref_stdWin_A.9_rs10207628_var_std...  \n",
      "4   9_rs10207628_ref_optWin_A.9_rs10207628_var_opt...  \n",
      "..                                                ...  \n",
      "95  946_rs6684490_ref_optWin_A.946_rs6684490_var_o...  \n",
      "96  945_rs668071_ref_stdWin_A.945_rs668071_var_std...  \n",
      "97  945_rs668071_ref_optWin_A.945_rs668071_var_opt...  \n",
      "98  944_rs667897_ref_stdWin_A.944_rs667897_var_std...  \n",
      "99  943_rs6658353_ref_optWin_A.943_rs6658353_var_o...  \n",
      "\n",
      "[100 rows x 4 columns]\n",
      "0.03529036992178619\n"
     ]
    },
    {
     "data": {
      "image/png": "[encoded data removed]",
      "text/plain": [
       "<Figure size 432x288 with 1 Axes>"
      ]
     },
     "metadata": {
      "needs_background": "light"
     },
     "output_type": "display_data"
    }
   ],
   "source": [
    "resultsC5 = pd.DataFrame()\n",
    "resultsC5['NN_abslfc'] = C5['abs_lfc']\n",
    "resultsC5['MPRA_abslfc'] = mpra_peaks_reindex['abslfc']\n",
    "resultsC5['NN_metadata'] = C5['metadata']\n",
    "resultsC5['MPRA_metadata'] = mpra_peaks_reindex['metadata']\n",
    "\n",
    "print(resultsC5.info())\n",
    "print(resultsC5.head(100))\n",
    "ax1 = resultsC5.plot.scatter(x='NN_abslfc', y='MPRA_abslfc', c='DarkBlue')\n",
    "print(resultsC5['NN_abslfc'].corr(resultsC5['MPRA_abslfc']))"
   ]
  },
  {
   "cell_type": "code",
   "execution_count": 16,
   "metadata": {},
   "outputs": [
    {
     "name": "stdout",
     "output_type": "stream",
     "text": [
      "<class 'pandas.core.frame.DataFrame'>\n",
      "RangeIndex: 1877 entries, 0 to 1876\n",
      "Data columns (total 4 columns):\n",
      " #   Column         Non-Null Count  Dtype  \n",
      "---  ------         --------------  -----  \n",
      " 0   NN_abslfc      1877 non-null   float64\n",
      " 1   MPRA_abslfc    1877 non-null   float64\n",
      " 2   NN_metadata    1877 non-null   object \n",
      " 3   MPRA_metadata  1877 non-null   object \n",
      "dtypes: float64(2), object(2)\n",
      "memory usage: 58.8+ KB\n",
      "None\n",
      "    NN_abslfc  MPRA_abslfc                                        NN_metadata  \\\n",
      "0    0.032915     0.024152  9_rs10207628_var_stdWin_A.9_rs10207628_var_std...   \n",
      "1    0.033962     0.026611  9_rs10207628_var_optWin_A.9_rs10207628_var_opt...   \n",
      "2    0.042245     0.029010  9_rs10207628_ref_stdWin_A.9_rs10207628_var_std...   \n",
      "3    0.075160     0.054821  9_rs10207628_ref_stdWin_A.9_rs10207628_var_std...   \n",
      "4    0.048933     0.027086  9_rs10207628_ref_optWin_A.9_rs10207628_var_opt...   \n",
      "..        ...          ...                                                ...   \n",
      "95   0.034198     0.033236  946_rs6684490_ref_optWin_A.946_rs6684490_var_o...   \n",
      "96   0.023900     0.028279  945_rs668071_ref_stdWin_A.945_rs668071_var_std...   \n",
      "97   0.026022     0.061581  945_rs668071_ref_optWin_A.945_rs668071_var_opt...   \n",
      "98   0.040919     0.013192  944_rs667897_ref_stdWin_A.944_rs667897_var_std...   \n",
      "99   0.007972     0.108506  943_rs6658353_ref_optWin_A.943_rs6658353_var_o...   \n",
      "\n",
      "                                        MPRA_metadata  \n",
      "0   9_rs10207628_var_stdWin_A.9_rs10207628_var_std...  \n",
      "1   9_rs10207628_var_optWin_A.9_rs10207628_var_opt...  \n",
      "2   9_rs10207628_ref_stdWin_A.9_rs10207628_var_std...  \n",
      "3   9_rs10207628_ref_stdWin_A.9_rs10207628_var_std...  \n",
      "4   9_rs10207628_ref_optWin_A.9_rs10207628_var_opt...  \n",
      "..                                                ...  \n",
      "95  946_rs6684490_ref_optWin_A.946_rs6684490_var_o...  \n",
      "96  945_rs668071_ref_stdWin_A.945_rs668071_var_std...  \n",
      "97  945_rs668071_ref_optWin_A.945_rs668071_var_opt...  \n",
      "98  944_rs667897_ref_stdWin_A.944_rs667897_var_std...  \n",
      "99  943_rs6658353_ref_optWin_A.943_rs6658353_var_o...  \n",
      "\n",
      "[100 rows x 4 columns]\n",
      "0.04549472754387602\n"
     ]
    },
    {
     "data": {
      "image/png": "[encoded data removed]",
      "text/plain": [
       "<Figure size 432x288 with 1 Axes>"
      ]
     },
     "metadata": {
      "needs_background": "light"
     },
     "output_type": "display_data"
    }
   ],
   "source": [
    "resultsC8 = pd.DataFrame()\n",
    "resultsC8['NN_abslfc'] = C8['abs_lfc']\n",
    "resultsC8['MPRA_abslfc'] = mpra_peaks_reindex['abslfc']\n",
    "resultsC8['NN_metadata'] = C8['metadata']\n",
    "resultsC8['MPRA_metadata'] = mpra_peaks_reindex['metadata']\n",
    "\n",
    "print(resultsC8.info())\n",
    "print(resultsC8.head(100))\n",
    "ax1 = resultsC8.plot.scatter(x='NN_abslfc', y='MPRA_abslfc', c='DarkBlue')\n",
    "print(resultsC8['NN_abslfc'].corr(resultsC8['MPRA_abslfc']))"
   ]
  },
  {
   "cell_type": "code",
   "execution_count": 17,
   "metadata": {},
   "outputs": [
    {
     "name": "stdout",
     "output_type": "stream",
     "text": [
      "<class 'pandas.core.frame.DataFrame'>\n",
      "RangeIndex: 1877 entries, 0 to 1876\n",
      "Data columns (total 4 columns):\n",
      " #   Column         Non-Null Count  Dtype  \n",
      "---  ------         --------------  -----  \n",
      " 0   NN_abslfc      1877 non-null   float64\n",
      " 1   MPRA_abslfc    1877 non-null   float64\n",
      " 2   NN_metadata    1877 non-null   object \n",
      " 3   MPRA_metadata  1877 non-null   object \n",
      "dtypes: float64(2), object(2)\n",
      "memory usage: 58.8+ KB\n",
      "None\n",
      "    NN_abslfc  MPRA_abslfc                                        NN_metadata  \\\n",
      "0    0.010868     0.024152  9_rs10207628_var_stdWin_A.9_rs10207628_var_std...   \n",
      "1    0.002914     0.026611  9_rs10207628_var_optWin_A.9_rs10207628_var_opt...   \n",
      "2    0.069008     0.029010  9_rs10207628_ref_stdWin_A.9_rs10207628_var_std...   \n",
      "3    0.079877     0.054821  9_rs10207628_ref_stdWin_A.9_rs10207628_var_std...   \n",
      "4    0.071468     0.027086  9_rs10207628_ref_optWin_A.9_rs10207628_var_opt...   \n",
      "..        ...          ...                                                ...   \n",
      "95   0.007701     0.033236  946_rs6684490_ref_optWin_A.946_rs6684490_var_o...   \n",
      "96   0.013389     0.028279  945_rs668071_ref_stdWin_A.945_rs668071_var_std...   \n",
      "97   0.013017     0.061581  945_rs668071_ref_optWin_A.945_rs668071_var_opt...   \n",
      "98   0.026325     0.013192  944_rs667897_ref_stdWin_A.944_rs667897_var_std...   \n",
      "99   0.018448     0.108506  943_rs6658353_ref_optWin_A.943_rs6658353_var_o...   \n",
      "\n",
      "                                        MPRA_metadata  \n",
      "0   9_rs10207628_var_stdWin_A.9_rs10207628_var_std...  \n",
      "1   9_rs10207628_var_optWin_A.9_rs10207628_var_opt...  \n",
      "2   9_rs10207628_ref_stdWin_A.9_rs10207628_var_std...  \n",
      "3   9_rs10207628_ref_stdWin_A.9_rs10207628_var_std...  \n",
      "4   9_rs10207628_ref_optWin_A.9_rs10207628_var_opt...  \n",
      "..                                                ...  \n",
      "95  946_rs6684490_ref_optWin_A.946_rs6684490_var_o...  \n",
      "96  945_rs668071_ref_stdWin_A.945_rs668071_var_std...  \n",
      "97  945_rs668071_ref_optWin_A.945_rs668071_var_opt...  \n",
      "98  944_rs667897_ref_stdWin_A.944_rs667897_var_std...  \n",
      "99  943_rs6658353_ref_optWin_A.943_rs6658353_var_o...  \n",
      "\n",
      "[100 rows x 4 columns]\n",
      "0.02542694618757871\n"
     ]
    },
    {
     "data": {
      "image/png": "[encoded data removed]",
      "text/plain": [
       "<Figure size 432x288 with 1 Axes>"
      ]
     },
     "metadata": {
      "needs_background": "light"
     },
     "output_type": "display_data"
    }
   ],
   "source": [
    "resultsC13 = pd.DataFrame()\n",
    "resultsC13['NN_abslfc'] = C13['abs_lfc']\n",
    "resultsC13['MPRA_abslfc'] = mpra_peaks_reindex['abslfc']\n",
    "resultsC13['NN_metadata'] = C13['metadata']\n",
    "resultsC13['MPRA_metadata'] = mpra_peaks_reindex['metadata']\n",
    "\n",
    "print(resultsC13.info())\n",
    "print(resultsC13.head(100))\n",
    "ax1 = resultsC13.plot.scatter(x='NN_abslfc', y='MPRA_abslfc', c='DarkBlue')\n",
    "print(resultsC13['NN_abslfc'].corr(resultsC13['MPRA_abslfc']))"
   ]
  },
  {
   "cell_type": "code",
   "execution_count": 18,
   "metadata": {},
   "outputs": [
    {
     "name": "stdout",
     "output_type": "stream",
     "text": [
      "<class 'pandas.core.frame.DataFrame'>\n",
      "RangeIndex: 1877 entries, 0 to 1876\n",
      "Data columns (total 4 columns):\n",
      " #   Column         Non-Null Count  Dtype  \n",
      "---  ------         --------------  -----  \n",
      " 0   NN_abslfc      1877 non-null   float64\n",
      " 1   MPRA_abslfc    1877 non-null   float64\n",
      " 2   NN_metadata    1877 non-null   object \n",
      " 3   MPRA_metadata  1877 non-null   object \n",
      "dtypes: float64(2), object(2)\n",
      "memory usage: 58.8+ KB\n",
      "None\n",
      "    NN_abslfc  MPRA_abslfc                                        NN_metadata  \\\n",
      "0    0.009183     0.024152  9_rs10207628_var_stdWin_A.9_rs10207628_var_std...   \n",
      "1    0.003451     0.026611  9_rs10207628_var_optWin_A.9_rs10207628_var_opt...   \n",
      "2    0.028706     0.029010  9_rs10207628_ref_stdWin_A.9_rs10207628_var_std...   \n",
      "3    0.037889     0.054821  9_rs10207628_ref_stdWin_A.9_rs10207628_var_std...   \n",
      "4    0.043477     0.027086  9_rs10207628_ref_optWin_A.9_rs10207628_var_opt...   \n",
      "..        ...          ...                                                ...   \n",
      "95   0.023257     0.033236  946_rs6684490_ref_optWin_A.946_rs6684490_var_o...   \n",
      "96   0.003596     0.028279  945_rs668071_ref_stdWin_A.945_rs668071_var_std...   \n",
      "97   0.004213     0.061581  945_rs668071_ref_optWin_A.945_rs668071_var_opt...   \n",
      "98   0.024596     0.013192  944_rs667897_ref_stdWin_A.944_rs667897_var_std...   \n",
      "99   0.018570     0.108506  943_rs6658353_ref_optWin_A.943_rs6658353_var_o...   \n",
      "\n",
      "                                        MPRA_metadata  \n",
      "0   9_rs10207628_var_stdWin_A.9_rs10207628_var_std...  \n",
      "1   9_rs10207628_var_optWin_A.9_rs10207628_var_opt...  \n",
      "2   9_rs10207628_ref_stdWin_A.9_rs10207628_var_std...  \n",
      "3   9_rs10207628_ref_stdWin_A.9_rs10207628_var_std...  \n",
      "4   9_rs10207628_ref_optWin_A.9_rs10207628_var_opt...  \n",
      "..                                                ...  \n",
      "95  946_rs6684490_ref_optWin_A.946_rs6684490_var_o...  \n",
      "96  945_rs668071_ref_stdWin_A.945_rs668071_var_std...  \n",
      "97  945_rs668071_ref_optWin_A.945_rs668071_var_opt...  \n",
      "98  944_rs667897_ref_stdWin_A.944_rs667897_var_std...  \n",
      "99  943_rs6658353_ref_optWin_A.943_rs6658353_var_o...  \n",
      "\n",
      "[100 rows x 4 columns]\n",
      "0.01599858562460902\n"
     ]
    },
    {
     "data": {
      "image/png": "[encoded data removed]",
      "text/plain": [
       "<Figure size 432x288 with 1 Axes>"
      ]
     },
     "metadata": {
      "needs_background": "light"
     },
     "output_type": "display_data"
    }
   ],
   "source": [
    "resultsC19 = pd.DataFrame()\n",
    "resultsC19['NN_abslfc'] = C19['abs_lfc']\n",
    "resultsC19['MPRA_abslfc'] = mpra_peaks_reindex['abslfc']\n",
    "resultsC19['NN_metadata'] = C19['metadata']\n",
    "resultsC19['MPRA_metadata'] = mpra_peaks_reindex['metadata']\n",
    "\n",
    "print(resultsC19.info())\n",
    "print(resultsC19.head(100))\n",
    "ax1 = resultsC19.plot.scatter(x='NN_abslfc', y='MPRA_abslfc', c='DarkBlue')\n",
    "print(resultsC19['NN_abslfc'].corr(resultsC19['MPRA_abslfc']))"
   ]
  },
  {
   "cell_type": "code",
   "execution_count": 19,
   "metadata": {},
   "outputs": [
    {
     "name": "stdout",
     "output_type": "stream",
     "text": [
      "<class 'pandas.core.frame.DataFrame'>\n",
      "RangeIndex: 1877 entries, 0 to 1876\n",
      "Data columns (total 4 columns):\n",
      " #   Column         Non-Null Count  Dtype  \n",
      "---  ------         --------------  -----  \n",
      " 0   NN_abslfc      1877 non-null   float64\n",
      " 1   MPRA_abslfc    1877 non-null   float64\n",
      " 2   NN_metadata    1877 non-null   object \n",
      " 3   MPRA_metadata  1877 non-null   object \n",
      "dtypes: float64(2), object(2)\n",
      "memory usage: 58.8+ KB\n",
      "None\n",
      "    NN_abslfc  MPRA_abslfc                                        NN_metadata  \\\n",
      "0    0.044269     0.024152  9_rs10207628_var_stdWin_A.9_rs10207628_var_std...   \n",
      "1    0.022108     0.026611  9_rs10207628_var_optWin_A.9_rs10207628_var_opt...   \n",
      "2    0.009665     0.029010  9_rs10207628_ref_stdWin_A.9_rs10207628_var_std...   \n",
      "3    0.053934     0.054821  9_rs10207628_ref_stdWin_A.9_rs10207628_var_std...   \n",
      "4    0.019160     0.027086  9_rs10207628_ref_optWin_A.9_rs10207628_var_opt...   \n",
      "..        ...          ...                                                ...   \n",
      "95   0.056084     0.033236  946_rs6684490_ref_optWin_A.946_rs6684490_var_o...   \n",
      "96   0.018047     0.028279  945_rs668071_ref_stdWin_A.945_rs668071_var_std...   \n",
      "97   0.024841     0.061581  945_rs668071_ref_optWin_A.945_rs668071_var_opt...   \n",
      "98   0.002758     0.013192  944_rs667897_ref_stdWin_A.944_rs667897_var_std...   \n",
      "99   0.017564     0.108506  943_rs6658353_ref_optWin_A.943_rs6658353_var_o...   \n",
      "\n",
      "                                        MPRA_metadata  \n",
      "0   9_rs10207628_var_stdWin_A.9_rs10207628_var_std...  \n",
      "1   9_rs10207628_var_optWin_A.9_rs10207628_var_opt...  \n",
      "2   9_rs10207628_ref_stdWin_A.9_rs10207628_var_std...  \n",
      "3   9_rs10207628_ref_stdWin_A.9_rs10207628_var_std...  \n",
      "4   9_rs10207628_ref_optWin_A.9_rs10207628_var_opt...  \n",
      "..                                                ...  \n",
      "95  946_rs6684490_ref_optWin_A.946_rs6684490_var_o...  \n",
      "96  945_rs668071_ref_stdWin_A.945_rs668071_var_std...  \n",
      "97  945_rs668071_ref_optWin_A.945_rs668071_var_opt...  \n",
      "98  944_rs667897_ref_stdWin_A.944_rs667897_var_std...  \n",
      "99  943_rs6658353_ref_optWin_A.943_rs6658353_var_o...  \n",
      "\n",
      "[100 rows x 4 columns]\n",
      "0.05405207794540497\n"
     ]
    },
    {
     "data": {
      "image/png": "[encoded data removed]",
      "text/plain": [
       "<Figure size 432x288 with 1 Axes>"
      ]
     },
     "metadata": {
      "needs_background": "light"
     },
     "output_type": "display_data"
    }
   ],
   "source": [
    "resultsC24 = pd.DataFrame()\n",
    "resultsC24['NN_abslfc'] = C24['abs_lfc']\n",
    "resultsC24['MPRA_abslfc'] = mpra_peaks_reindex['abslfc']\n",
    "resultsC24['NN_metadata'] = C24['metadata']\n",
    "resultsC24['MPRA_metadata'] = mpra_peaks_reindex['metadata']\n",
    "\n",
    "print(resultsC24.info())\n",
    "print(resultsC24.head(100))\n",
    "ax1 = resultsC24.plot.scatter(x='NN_abslfc', y='MPRA_abslfc', c='DarkBlue')\n",
    "print(resultsC24['NN_abslfc'].corr(resultsC24['MPRA_abslfc']))"
   ]
  },
  {
   "cell_type": "code",
   "execution_count": null,
   "metadata": {},
   "outputs": [],
   "source": []
  }
 ],
 "metadata": {
  "kernelspec": {
   "display_name": "Python 3.8.10 ('base')",
   "language": "python",
   "name": "python3"
  },
  "language_info": {
   "codemirror_mode": {
    "name": "ipython",
    "version": 3
   },
   "file_extension": ".py",
   "mimetype": "text/x-python",
   "name": "python",
   "nbconvert_exporter": "python",
   "pygments_lexer": "ipython3",
   "version": "3.8.10"
  },
  "orig_nbformat": 4,
  "vscode": {
   "interpreter": {
    "hash": "078d3225eb53b123996ee15d488db70fe8c67e8f708fad3b97693fd16a58ae9d"
   }
  }
 },
 "nbformat": 4,
 "nbformat_minor": 2
}
