{
 "cells": [
  {
   "cell_type": "code",
   "execution_count": 1,
   "metadata": {},
   "outputs": [],
   "source": [
    "import pandas as pd\n",
    "import numpy as np"
   ]
  },
  {
   "cell_type": "code",
   "execution_count": 3,
   "metadata": {},
   "outputs": [],
   "source": [
    "seqA = pd.read_csv('../data/seqAN.csv')\n",
    "seqB = pd.read_csv('../data/seqBN.csv')\n",
    "ChromBPNet_lfc = pd.read_csv('../data/MPRA_all_lfc_seqN.csv')"
   ]
  },
  {
   "cell_type": "code",
   "execution_count": 4,
   "metadata": {},
   "outputs": [
    {
     "name": "stdout",
     "output_type": "stream",
     "text": [
      "<class 'pandas.core.frame.DataFrame'>\n",
      "RangeIndex: 13139 entries, 0 to 13138\n",
      "Data columns (total 9 columns):\n",
      " #   Column       Non-Null Count  Dtype  \n",
      "---  ------       --------------  -----  \n",
      " 0   Unnamed: 0   13139 non-null  int64  \n",
      " 1   lfc          13139 non-null  float64\n",
      " 2   abs_lfc      13139 non-null  float64\n",
      " 3   A_scores     13139 non-null  float64\n",
      " 4   B_scores     13139 non-null  float64\n",
      " 5   max_alleles  13139 non-null  float64\n",
      " 6   jsd          13139 non-null  float64\n",
      " 7   metadata     13139 non-null  object \n",
      " 8   NN_cluster   13139 non-null  object \n",
      "dtypes: float64(6), int64(1), object(2)\n",
      "memory usage: 924.0+ KB\n",
      "None\n",
      "    Unnamed: 0       lfc   abs_lfc     A_scores     B_scores  max_alleles  \\\n",
      "0            0 -0.011701  0.011701  1015.283303  1003.473143  1015.283303   \n",
      "1            1 -0.009259  0.009259   722.323637   715.666211   722.323637   \n",
      "2            2  0.006050  0.006050  1295.665084  1303.527670  1303.527670   \n",
      "3            3 -0.002441  0.002441   791.445963   789.516349   791.445963   \n",
      "4            4 -0.016717  0.016717   789.354300   776.268206   789.354300   \n",
      "5            5 -0.001508  0.001508  1221.561633  1219.720739  1221.561633   \n",
      "6            6  0.017008  0.017008   687.044454   698.829405   698.829405   \n",
      "7            7  0.007128  0.007128  1053.307409  1060.842182  1060.842182   \n",
      "8            8 -0.003604  0.003604   857.770481   854.684710   857.770481   \n",
      "9            9 -0.012906  0.012906   921.140112   909.328407   921.140112   \n",
      "10          10 -0.011306  0.011306   740.259709   731.937117   740.259709   \n",
      "11          11 -0.035747  0.035747  1011.859472   976.327147  1011.859472   \n",
      "12          12  0.000690  0.000690   693.269778   693.748405   693.748405   \n",
      "13          13 -0.044926  0.044926  1056.750415  1010.325268  1056.750415   \n",
      "14          14 -0.028226  0.028226   736.122449   715.634863   736.122449   \n",
      "15          15  0.005628  0.005628  1392.834033  1400.694778  1400.694778   \n",
      "16          16 -0.005172  0.005172   988.955857   983.853836   988.955857   \n",
      "17          17  0.008010  0.008010   866.363707   873.331107   873.331107   \n",
      "18          18 -0.011038  0.011038   723.928310   715.981677   723.928310   \n",
      "19          19 -0.020931  0.020931  1181.840660  1157.360899  1181.840660   \n",
      "\n",
      "         jsd                                           metadata NN_cluster  \n",
      "0   0.035841  436_rs2248415_ref_optWin_A.436_rs2248415_var_o...         C1  \n",
      "1   0.013829  672_rs4588066_ref_optWin_A.672_rs4588066_var_o...         C1  \n",
      "2   0.013745  34_rs10413237_ref_optWin_A.34_rs10413237_var_o...         C1  \n",
      "3   0.014815  324_rs17046072_ref_stdWin_A.324_rs17046072_var...         C1  \n",
      "4   0.014287  637_rs397967_ref_stdWin_A.637_rs397967_var_std...         C1  \n",
      "5   0.025126  795_rs61781270_ref_optWin_A.795_rs61781270_var...         C1  \n",
      "6   0.016508  799_rs618629_ref_stdWin_A.799_rs618629_var_std...         C1  \n",
      "7   0.018198  382_rs1806980_ref_stdWin_A.382_rs1806980_var_s...         C1  \n",
      "8   0.018883  192_rs12424040_ref_optWin_A.192_rs12424040_var...         C1  \n",
      "9   0.021701  535_rs34164595_ref_optWin_A.535_rs34164595_var...         C1  \n",
      "10  0.027258  611_rs3776870_ref_stdWin_A.611_rs3776870_var_s...         C1  \n",
      "11  0.039575  223_rs13025717_ref_optWin_A.223_rs13025717_var...         C1  \n",
      "12  0.021525  472_rs257318_ref_optWin_A.472_rs257318_var_opt...         C1  \n",
      "13  0.038643  223_rs13025717_ref_stdWin_A.223_rs13025717_var...         C1  \n",
      "14  0.141365  525_rs3041800_ref_stdWin_A.525_rs3041800_var_s...         C1  \n",
      "15  0.016113  791_rs6085343_ref_stdWin_A.791_rs6085343_var_s...         C1  \n",
      "16  0.015760  493_rs2696635_ref_optWin_A.493_rs2696635_var_o...         C1  \n",
      "17  0.015914  526_rs307677_ref_stdWin_A.526_rs307677_var_std...         C1  \n",
      "18  0.008634  866_rs62061790_ref_optWin_A.866_rs62061790_var...         C1  \n",
      "19  0.015918  408_rs199524_ref_stdWin_A.408_rs199524_var_std...         C1  \n"
     ]
    }
   ],
   "source": [
    "print(ChromBPNet_lfc.info())\n",
    "print(ChromBPNet_lfc.head(20))"
   ]
  },
  {
   "cell_type": "code",
   "execution_count": 5,
   "metadata": {},
   "outputs": [
    {
     "name": "stdout",
     "output_type": "stream",
     "text": [
      "<class 'pandas.core.frame.DataFrame'>\n",
      "RangeIndex: 5255 entries, 0 to 5254\n",
      "Data columns (total 33 columns):\n",
      " #   Column                 Non-Null Count  Dtype  \n",
      "---  ------                 --------------  -----  \n",
      " 0   oligo_id               5255 non-null   object \n",
      " 1   vars                   5255 non-null   object \n",
      " 2   oligo_id2              5255 non-null   object \n",
      " 3   rsid                   5255 non-null   object \n",
      " 4   snp_type               5255 non-null   object \n",
      " 5   snp_type2              5255 non-null   object \n",
      " 6   oligo_group            5255 non-null   object \n",
      " 7   seq                    5255 non-null   object \n",
      " 8   seq2                   5255 non-null   object \n",
      " 9   rna_1_var1             5255 non-null   int64  \n",
      " 10  rna_2_var1             5255 non-null   int64  \n",
      " 11  rna_3_var1             5255 non-null   int64  \n",
      " 12  dna_1_var1             5255 non-null   int64  \n",
      " 13  dna_2_var1             5255 non-null   int64  \n",
      " 14  dna_3_var1             5255 non-null   int64  \n",
      " 15  rna_1_var2             5255 non-null   int64  \n",
      " 16  rna_2_var2             5255 non-null   int64  \n",
      " 17  rna_3_var2             5255 non-null   int64  \n",
      " 18  dna_1_var2             5255 non-null   int64  \n",
      " 19  dna_2_var2             5255 non-null   int64  \n",
      " 20  dna_3_var2             5255 non-null   int64  \n",
      " 21  baseMean_expr          5255 non-null   float64\n",
      " 22  log2FoldChange_expr    5255 non-null   float64\n",
      " 23  lfcSE_expr             5255 non-null   float64\n",
      " 24  stat_expr              5255 non-null   float64\n",
      " 25  pvalue_expr            5255 non-null   float64\n",
      " 26  padj_expr              5255 non-null   float64\n",
      " 27  baseMean_allele        5255 non-null   float64\n",
      " 28  log2FoldChange_allele  5255 non-null   float64\n",
      " 29  lfcSE_allele           5255 non-null   float64\n",
      " 30  stat_allele            5255 non-null   float64\n",
      " 31  pvalue_allele          5255 non-null   float64\n",
      " 32  padj_allele            2504 non-null   float64\n",
      "dtypes: float64(12), int64(12), object(9)\n",
      "memory usage: 1.3+ MB\n"
     ]
    }
   ],
   "source": [
    "mpra = pd.read_csv('../data/220518MPRA.csv')\n",
    "mpra.info()"
   ]
  },
  {
   "cell_type": "code",
   "execution_count": 6,
   "metadata": {},
   "outputs": [
    {
     "name": "stdout",
     "output_type": "stream",
     "text": [
      "<class 'pandas.core.frame.DataFrame'>\n",
      "Int64Index: 1877 entries, 0 to 5253\n",
      "Data columns (total 7 columns):\n",
      " #   Column    Non-Null Count  Dtype  \n",
      "---  ------    --------------  -----  \n",
      " 0   seq1      1877 non-null   object \n",
      " 1   seq2      1877 non-null   object \n",
      " 2   lfc       1877 non-null   float64\n",
      " 3   abslfc    1877 non-null   float64\n",
      " 4   metadata  1877 non-null   object \n",
      " 5   rsid      1877 non-null   object \n",
      " 6   region    1877 non-null   object \n",
      "dtypes: float64(2), object(5)\n",
      "memory usage: 117.3+ KB\n"
     ]
    }
   ],
   "source": [
    "mpra_filtered = pd.DataFrame()\n",
    "mpra_filtered['seq1'] = mpra['seq']\n",
    "mpra_filtered['seq2'] = mpra['seq2']\n",
    "mpra_filtered['lfc'] = mpra['log2FoldChange_allele']\n",
    "mpra_filtered['abslfc'] = mpra_filtered['lfc'].abs()\n",
    "mpra_filtered['metadata'] = mpra['vars']\n",
    "mpra_filtered['rsid'] = mpra['rsid']\n",
    "mpra_filtered['region'] = mpra['oligo_group']\n",
    "mpra_filtered.head(20)\n",
    "regions = (\"stdWin\", \"optWin\")\n",
    "mpra_peaks = mpra_filtered[mpra_filtered['region'].isin(regions)]\n",
    "mpra_peaks.info()"
   ]
  },
  {
   "cell_type": "code",
   "execution_count": 7,
   "metadata": {},
   "outputs": [
    {
     "name": "stderr",
     "output_type": "stream",
     "text": [
      "<ipython-input-7-d6f3f65d094f>:1: SettingWithCopyWarning: \n",
      "A value is trying to be set on a copy of a slice from a DataFrame\n",
      "\n",
      "See the caveats in the documentation: https://pandas.pydata.org/pandas-docs/stable/user_guide/indexing.html#returning-a-view-versus-a-copy\n",
      "  mpra_peaks.sort_values('metadata', ascending=False, inplace=True)\n"
     ]
    }
   ],
   "source": [
    "mpra_peaks.sort_values('metadata', ascending=False, inplace=True)\n",
    "mpra_peaks_reindex = mpra_peaks.reset_index(drop=True)"
   ]
  },
  {
   "cell_type": "code",
   "execution_count": 8,
   "metadata": {},
   "outputs": [],
   "source": [
    "ChromBPNet_lfc.sort_values('metadata', ascending=False, inplace=True)\n",
    "ChromBPNet_lfc_reindex = ChromBPNet_lfc.reset_index(drop=True)"
   ]
  },
  {
   "cell_type": "code",
   "execution_count": 9,
   "metadata": {},
   "outputs": [],
   "source": [
    "C1 = ChromBPNet_lfc_reindex[ChromBPNet_lfc_reindex['NN_cluster'] == 'C1'].reset_index(drop=True)\n",
    "C2 = ChromBPNet_lfc_reindex[ChromBPNet_lfc_reindex['NN_cluster'] == 'C2'].reset_index(drop=True)\n",
    "C5 = ChromBPNet_lfc_reindex[ChromBPNet_lfc_reindex['NN_cluster'] == 'C5'].reset_index(drop=True)\n",
    "C8 = ChromBPNet_lfc_reindex[ChromBPNet_lfc_reindex['NN_cluster'] == 'C8'].reset_index(drop=True)\n",
    "C13 = ChromBPNet_lfc_reindex[ChromBPNet_lfc_reindex['NN_cluster'] == 'C13'].reset_index(drop=True)\n",
    "C19 = ChromBPNet_lfc_reindex[ChromBPNet_lfc_reindex['NN_cluster'] == 'C19'].reset_index(drop=True)\n",
    "C24 = ChromBPNet_lfc_reindex[ChromBPNet_lfc_reindex['NN_cluster'] == 'C24'].reset_index(drop=True)"
   ]
  },
  {
   "cell_type": "code",
   "execution_count": 10,
   "metadata": {},
   "outputs": [
    {
     "name": "stdout",
     "output_type": "stream",
     "text": [
      "<class 'pandas.core.frame.DataFrame'>\n",
      "RangeIndex: 1877 entries, 0 to 1876\n",
      "Data columns (total 4 columns):\n",
      " #   Column         Non-Null Count  Dtype  \n",
      "---  ------         --------------  -----  \n",
      " 0   NN_abslfc      1877 non-null   float64\n",
      " 1   MPRA_abslfc    1877 non-null   float64\n",
      " 2   NN_metadata    1877 non-null   object \n",
      " 3   MPRA_metadata  1877 non-null   object \n",
      "dtypes: float64(2), object(2)\n",
      "memory usage: 58.8+ KB\n",
      "None\n",
      "    NN_abslfc  MPRA_abslfc                                        NN_metadata  \\\n",
      "0    0.003789     0.024152  9_rs10207628_var_stdWin_A.9_rs10207628_var_std...   \n",
      "1    0.000277     0.026611  9_rs10207628_var_optWin_A.9_rs10207628_var_opt...   \n",
      "2    0.015114     0.029010  9_rs10207628_ref_stdWin_A.9_rs10207628_var_std...   \n",
      "3    0.018902     0.054821  9_rs10207628_ref_stdWin_A.9_rs10207628_var_std...   \n",
      "4    0.019116     0.027086  9_rs10207628_ref_optWin_A.9_rs10207628_var_opt...   \n",
      "..        ...          ...                                                ...   \n",
      "95   0.002931     0.033236  946_rs6684490_ref_optWin_A.946_rs6684490_var_o...   \n",
      "96   0.007870     0.028279  945_rs668071_ref_stdWin_A.945_rs668071_var_std...   \n",
      "97   0.007707     0.061581  945_rs668071_ref_optWin_A.945_rs668071_var_opt...   \n",
      "98   0.026298     0.013192  944_rs667897_ref_stdWin_A.944_rs667897_var_std...   \n",
      "99   0.009852     0.108506  943_rs6658353_ref_optWin_A.943_rs6658353_var_o...   \n",
      "\n",
      "                                        MPRA_metadata  \n",
      "0   9_rs10207628_var_stdWin_A.9_rs10207628_var_std...  \n",
      "1   9_rs10207628_var_optWin_A.9_rs10207628_var_opt...  \n",
      "2   9_rs10207628_ref_stdWin_A.9_rs10207628_var_std...  \n",
      "3   9_rs10207628_ref_stdWin_A.9_rs10207628_var_std...  \n",
      "4   9_rs10207628_ref_optWin_A.9_rs10207628_var_opt...  \n",
      "..                                                ...  \n",
      "95  946_rs6684490_ref_optWin_A.946_rs6684490_var_o...  \n",
      "96  945_rs668071_ref_stdWin_A.945_rs668071_var_std...  \n",
      "97  945_rs668071_ref_optWin_A.945_rs668071_var_opt...  \n",
      "98  944_rs667897_ref_stdWin_A.944_rs667897_var_std...  \n",
      "99  943_rs6658353_ref_optWin_A.943_rs6658353_var_o...  \n",
      "\n",
      "[100 rows x 4 columns]\n",
      "0.010401202320632056\n"
     ]
    },
    {
     "data": {
      "image/png": "[encoded data removed]",
      "text/plain": [
       "<Figure size 432x288 with 1 Axes>"
      ]
     },
     "metadata": {
      "needs_background": "light"
     },
     "output_type": "display_data"
    }
   ],
   "source": [
    "resultsC1 = pd.DataFrame()\n",
    "resultsC1['NN_abslfc'] = C1['abs_lfc']\n",
    "resultsC1['MPRA_abslfc'] = mpra_peaks_reindex['abslfc']\n",
    "resultsC1['NN_metadata'] = C1['metadata']\n",
    "resultsC1['MPRA_metadata'] = mpra_peaks_reindex['metadata']\n",
    "\n",
    "print(resultsC1.info())\n",
    "print(resultsC1.head(100))\n",
    "ax1 = resultsC1.plot.scatter(x='NN_abslfc', y='MPRA_abslfc', c='DarkBlue')\n",
    "print(resultsC1['NN_abslfc'].corr(resultsC1['MPRA_abslfc']))"
   ]
  },
  {
   "cell_type": "code",
   "execution_count": 11,
   "metadata": {},
   "outputs": [
    {
     "name": "stdout",
     "output_type": "stream",
     "text": [
      "<class 'pandas.core.frame.DataFrame'>\n",
      "RangeIndex: 1877 entries, 0 to 1876\n",
      "Data columns (total 4 columns):\n",
      " #   Column         Non-Null Count  Dtype  \n",
      "---  ------         --------------  -----  \n",
      " 0   NN_abslfc      1877 non-null   float64\n",
      " 1   MPRA_abslfc    1877 non-null   float64\n",
      " 2   NN_metadata    1877 non-null   object \n",
      " 3   MPRA_metadata  1877 non-null   object \n",
      "dtypes: float64(2), object(2)\n",
      "memory usage: 58.8+ KB\n",
      "None\n",
      "    NN_abslfc  MPRA_abslfc                                        NN_metadata  \\\n",
      "0    0.095218     0.024152  9_rs10207628_var_stdWin_A.9_rs10207628_var_std...   \n",
      "1    0.085477     0.026611  9_rs10207628_var_optWin_A.9_rs10207628_var_opt...   \n",
      "2    0.032381     0.029010  9_rs10207628_ref_stdWin_A.9_rs10207628_var_std...   \n",
      "3    0.127599     0.054821  9_rs10207628_ref_stdWin_A.9_rs10207628_var_std...   \n",
      "4    0.047477     0.027086  9_rs10207628_ref_optWin_A.9_rs10207628_var_opt...   \n",
      "..        ...          ...                                                ...   \n",
      "95   0.008755     0.033236  946_rs6684490_ref_optWin_A.946_rs6684490_var_o...   \n",
      "96   0.098448     0.028279  945_rs668071_ref_stdWin_A.945_rs668071_var_std...   \n",
      "97   0.099139     0.061581  945_rs668071_ref_optWin_A.945_rs668071_var_opt...   \n",
      "98   0.252286     0.013192  944_rs667897_ref_stdWin_A.944_rs667897_var_std...   \n",
      "99   0.005572     0.108506  943_rs6658353_ref_optWin_A.943_rs6658353_var_o...   \n",
      "\n",
      "                                        MPRA_metadata  \n",
      "0   9_rs10207628_var_stdWin_A.9_rs10207628_var_std...  \n",
      "1   9_rs10207628_var_optWin_A.9_rs10207628_var_opt...  \n",
      "2   9_rs10207628_ref_stdWin_A.9_rs10207628_var_std...  \n",
      "3   9_rs10207628_ref_stdWin_A.9_rs10207628_var_std...  \n",
      "4   9_rs10207628_ref_optWin_A.9_rs10207628_var_opt...  \n",
      "..                                                ...  \n",
      "95  946_rs6684490_ref_optWin_A.946_rs6684490_var_o...  \n",
      "96  945_rs668071_ref_stdWin_A.945_rs668071_var_std...  \n",
      "97  945_rs668071_ref_optWin_A.945_rs668071_var_opt...  \n",
      "98  944_rs667897_ref_stdWin_A.944_rs667897_var_std...  \n",
      "99  943_rs6658353_ref_optWin_A.943_rs6658353_var_o...  \n",
      "\n",
      "[100 rows x 4 columns]\n",
      "0.008943847244897168\n"
     ]
    },
    {
     "data": {
      "image/png": "[encoded data removed]",
      "text/plain": [
       "<Figure size 432x288 with 1 Axes>"
      ]
     },
     "metadata": {
      "needs_background": "light"
     },
     "output_type": "display_data"
    }
   ],
   "source": [
    "resultsC2 = pd.DataFrame()\n",
    "resultsC2['NN_abslfc'] = C2['abs_lfc']\n",
    "resultsC2['MPRA_abslfc'] = mpra_peaks_reindex['abslfc']\n",
    "resultsC2['NN_metadata'] = C2['metadata']\n",
    "resultsC2['MPRA_metadata'] = mpra_peaks_reindex['metadata']\n",
    "\n",
    "print(resultsC2.info())\n",
    "print(resultsC2.head(100))\n",
    "ax1 = resultsC2.plot.scatter(x='NN_abslfc', y='MPRA_abslfc', c='DarkBlue')\n",
    "print(resultsC2['NN_abslfc'].corr(resultsC2['MPRA_abslfc']))"
   ]
  },
  {
   "cell_type": "code",
   "execution_count": 12,
   "metadata": {},
   "outputs": [
    {
     "name": "stdout",
     "output_type": "stream",
     "text": [
      "<class 'pandas.core.frame.DataFrame'>\n",
      "RangeIndex: 1877 entries, 0 to 1876\n",
      "Data columns (total 4 columns):\n",
      " #   Column         Non-Null Count  Dtype  \n",
      "---  ------         --------------  -----  \n",
      " 0   NN_abslfc      1877 non-null   float64\n",
      " 1   MPRA_abslfc    1877 non-null   float64\n",
      " 2   NN_metadata    1877 non-null   object \n",
      " 3   MPRA_metadata  1877 non-null   object \n",
      "dtypes: float64(2), object(2)\n",
      "memory usage: 58.8+ KB\n",
      "None\n",
      "    NN_abslfc  MPRA_abslfc                                        NN_metadata  \\\n",
      "0    0.002026     0.024152  9_rs10207628_var_stdWin_A.9_rs10207628_var_std...   \n",
      "1    0.005004     0.026611  9_rs10207628_var_optWin_A.9_rs10207628_var_opt...   \n",
      "2    0.095837     0.029010  9_rs10207628_ref_stdWin_A.9_rs10207628_var_std...   \n",
      "3    0.093811     0.054821  9_rs10207628_ref_stdWin_A.9_rs10207628_var_std...   \n",
      "4    0.097477     0.027086  9_rs10207628_ref_optWin_A.9_rs10207628_var_opt...   \n",
      "..        ...          ...                                                ...   \n",
      "95   0.023069     0.033236  946_rs6684490_ref_optWin_A.946_rs6684490_var_o...   \n",
      "96   0.019989     0.028279  945_rs668071_ref_stdWin_A.945_rs668071_var_std...   \n",
      "97   0.020756     0.061581  945_rs668071_ref_optWin_A.945_rs668071_var_opt...   \n",
      "98   0.069590     0.013192  944_rs667897_ref_stdWin_A.944_rs667897_var_std...   \n",
      "99   0.001306     0.108506  943_rs6658353_ref_optWin_A.943_rs6658353_var_o...   \n",
      "\n",
      "                                        MPRA_metadata  \n",
      "0   9_rs10207628_var_stdWin_A.9_rs10207628_var_std...  \n",
      "1   9_rs10207628_var_optWin_A.9_rs10207628_var_opt...  \n",
      "2   9_rs10207628_ref_stdWin_A.9_rs10207628_var_std...  \n",
      "3   9_rs10207628_ref_stdWin_A.9_rs10207628_var_std...  \n",
      "4   9_rs10207628_ref_optWin_A.9_rs10207628_var_opt...  \n",
      "..                                                ...  \n",
      "95  946_rs6684490_ref_optWin_A.946_rs6684490_var_o...  \n",
      "96  945_rs668071_ref_stdWin_A.945_rs668071_var_std...  \n",
      "97  945_rs668071_ref_optWin_A.945_rs668071_var_opt...  \n",
      "98  944_rs667897_ref_stdWin_A.944_rs667897_var_std...  \n",
      "99  943_rs6658353_ref_optWin_A.943_rs6658353_var_o...  \n",
      "\n",
      "[100 rows x 4 columns]\n",
      "0.023351065964120864\n"
     ]
    },
    {
     "data": {
      "image/png": "[encoded data removed]",
      "text/plain": [
       "<Figure size 432x288 with 1 Axes>"
      ]
     },
     "metadata": {
      "needs_background": "light"
     },
     "output_type": "display_data"
    }
   ],
   "source": [
    "resultsC5 = pd.DataFrame()\n",
    "resultsC5['NN_abslfc'] = C5['abs_lfc']\n",
    "resultsC5['MPRA_abslfc'] = mpra_peaks_reindex['abslfc']\n",
    "resultsC5['NN_metadata'] = C5['metadata']\n",
    "resultsC5['MPRA_metadata'] = mpra_peaks_reindex['metadata']\n",
    "\n",
    "print(resultsC5.info())\n",
    "print(resultsC5.head(100))\n",
    "ax1 = resultsC5.plot.scatter(x='NN_abslfc', y='MPRA_abslfc', c='DarkBlue')\n",
    "print(resultsC5['NN_abslfc'].corr(resultsC5['MPRA_abslfc']))"
   ]
  },
  {
   "cell_type": "code",
   "execution_count": 13,
   "metadata": {},
   "outputs": [
    {
     "name": "stdout",
     "output_type": "stream",
     "text": [
      "<class 'pandas.core.frame.DataFrame'>\n",
      "RangeIndex: 1877 entries, 0 to 1876\n",
      "Data columns (total 4 columns):\n",
      " #   Column         Non-Null Count  Dtype  \n",
      "---  ------         --------------  -----  \n",
      " 0   NN_abslfc      1877 non-null   float64\n",
      " 1   MPRA_abslfc    1877 non-null   float64\n",
      " 2   NN_metadata    1877 non-null   object \n",
      " 3   MPRA_metadata  1877 non-null   object \n",
      "dtypes: float64(2), object(2)\n",
      "memory usage: 58.8+ KB\n",
      "None\n",
      "    NN_abslfc  MPRA_abslfc                                        NN_metadata  \\\n",
      "0    0.044967     0.024152  9_rs10207628_var_stdWin_A.9_rs10207628_var_std...   \n",
      "1    0.036865     0.026611  9_rs10207628_var_optWin_A.9_rs10207628_var_opt...   \n",
      "2    0.053114     0.029010  9_rs10207628_ref_stdWin_A.9_rs10207628_var_std...   \n",
      "3    0.098081     0.054821  9_rs10207628_ref_stdWin_A.9_rs10207628_var_std...   \n",
      "4    0.056938     0.027086  9_rs10207628_ref_optWin_A.9_rs10207628_var_opt...   \n",
      "..        ...          ...                                                ...   \n",
      "95   0.047489     0.033236  946_rs6684490_ref_optWin_A.946_rs6684490_var_o...   \n",
      "96   0.031519     0.028279  945_rs668071_ref_stdWin_A.945_rs668071_var_std...   \n",
      "97   0.028235     0.061581  945_rs668071_ref_optWin_A.945_rs668071_var_opt...   \n",
      "98   0.055873     0.013192  944_rs667897_ref_stdWin_A.944_rs667897_var_std...   \n",
      "99   0.011815     0.108506  943_rs6658353_ref_optWin_A.943_rs6658353_var_o...   \n",
      "\n",
      "                                        MPRA_metadata  \n",
      "0   9_rs10207628_var_stdWin_A.9_rs10207628_var_std...  \n",
      "1   9_rs10207628_var_optWin_A.9_rs10207628_var_opt...  \n",
      "2   9_rs10207628_ref_stdWin_A.9_rs10207628_var_std...  \n",
      "3   9_rs10207628_ref_stdWin_A.9_rs10207628_var_std...  \n",
      "4   9_rs10207628_ref_optWin_A.9_rs10207628_var_opt...  \n",
      "..                                                ...  \n",
      "95  946_rs6684490_ref_optWin_A.946_rs6684490_var_o...  \n",
      "96  945_rs668071_ref_stdWin_A.945_rs668071_var_std...  \n",
      "97  945_rs668071_ref_optWin_A.945_rs668071_var_opt...  \n",
      "98  944_rs667897_ref_stdWin_A.944_rs667897_var_std...  \n",
      "99  943_rs6658353_ref_optWin_A.943_rs6658353_var_o...  \n",
      "\n",
      "[100 rows x 4 columns]\n",
      "0.03442803964068554\n"
     ]
    },
    {
     "data": {
      "image/png": "[encoded data removed]",
      "text/plain": [
       "<Figure size 432x288 with 1 Axes>"
      ]
     },
     "metadata": {
      "needs_background": "light"
     },
     "output_type": "display_data"
    }
   ],
   "source": [
    "resultsC8 = pd.DataFrame()\n",
    "resultsC8['NN_abslfc'] = C8['abs_lfc']\n",
    "resultsC8['MPRA_abslfc'] = mpra_peaks_reindex['abslfc']\n",
    "resultsC8['NN_metadata'] = C8['metadata']\n",
    "resultsC8['MPRA_metadata'] = mpra_peaks_reindex['metadata']\n",
    "\n",
    "print(resultsC8.info())\n",
    "print(resultsC8.head(100))\n",
    "ax1 = resultsC8.plot.scatter(x='NN_abslfc', y='MPRA_abslfc', c='DarkBlue')\n",
    "print(resultsC8['NN_abslfc'].corr(resultsC8['MPRA_abslfc']))"
   ]
  },
  {
   "cell_type": "code",
   "execution_count": 14,
   "metadata": {},
   "outputs": [
    {
     "name": "stdout",
     "output_type": "stream",
     "text": [
      "<class 'pandas.core.frame.DataFrame'>\n",
      "RangeIndex: 1877 entries, 0 to 1876\n",
      "Data columns (total 4 columns):\n",
      " #   Column         Non-Null Count  Dtype  \n",
      "---  ------         --------------  -----  \n",
      " 0   NN_abslfc      1877 non-null   float64\n",
      " 1   MPRA_abslfc    1877 non-null   float64\n",
      " 2   NN_metadata    1877 non-null   object \n",
      " 3   MPRA_metadata  1877 non-null   object \n",
      "dtypes: float64(2), object(2)\n",
      "memory usage: 58.8+ KB\n",
      "None\n",
      "    NN_abslfc  MPRA_abslfc                                        NN_metadata  \\\n",
      "0    0.007858     0.024152  9_rs10207628_var_stdWin_A.9_rs10207628_var_std...   \n",
      "1    0.003354     0.026611  9_rs10207628_var_optWin_A.9_rs10207628_var_opt...   \n",
      "2    0.085637     0.029010  9_rs10207628_ref_stdWin_A.9_rs10207628_var_std...   \n",
      "3    0.093496     0.054821  9_rs10207628_ref_stdWin_A.9_rs10207628_var_std...   \n",
      "4    0.066230     0.027086  9_rs10207628_ref_optWin_A.9_rs10207628_var_opt...   \n",
      "..        ...          ...                                                ...   \n",
      "95   0.016771     0.033236  946_rs6684490_ref_optWin_A.946_rs6684490_var_o...   \n",
      "96   0.005328     0.028279  945_rs668071_ref_stdWin_A.945_rs668071_var_std...   \n",
      "97   0.012811     0.061581  945_rs668071_ref_optWin_A.945_rs668071_var_opt...   \n",
      "98   0.028403     0.013192  944_rs667897_ref_stdWin_A.944_rs667897_var_std...   \n",
      "99   0.014328     0.108506  943_rs6658353_ref_optWin_A.943_rs6658353_var_o...   \n",
      "\n",
      "                                        MPRA_metadata  \n",
      "0   9_rs10207628_var_stdWin_A.9_rs10207628_var_std...  \n",
      "1   9_rs10207628_var_optWin_A.9_rs10207628_var_opt...  \n",
      "2   9_rs10207628_ref_stdWin_A.9_rs10207628_var_std...  \n",
      "3   9_rs10207628_ref_stdWin_A.9_rs10207628_var_std...  \n",
      "4   9_rs10207628_ref_optWin_A.9_rs10207628_var_opt...  \n",
      "..                                                ...  \n",
      "95  946_rs6684490_ref_optWin_A.946_rs6684490_var_o...  \n",
      "96  945_rs668071_ref_stdWin_A.945_rs668071_var_std...  \n",
      "97  945_rs668071_ref_optWin_A.945_rs668071_var_opt...  \n",
      "98  944_rs667897_ref_stdWin_A.944_rs667897_var_std...  \n",
      "99  943_rs6658353_ref_optWin_A.943_rs6658353_var_o...  \n",
      "\n",
      "[100 rows x 4 columns]\n",
      "0.01734174571135955\n"
     ]
    },
    {
     "data": {
      "image/png": "[encoded data removed]",
      "text/plain": [
       "<Figure size 432x288 with 1 Axes>"
      ]
     },
     "metadata": {
      "needs_background": "light"
     },
     "output_type": "display_data"
    }
   ],
   "source": [
    "resultsC13 = pd.DataFrame()\n",
    "resultsC13['NN_abslfc'] = C13['abs_lfc']\n",
    "resultsC13['MPRA_abslfc'] = mpra_peaks_reindex['abslfc']\n",
    "resultsC13['NN_metadata'] = C13['metadata']\n",
    "resultsC13['MPRA_metadata'] = mpra_peaks_reindex['metadata']\n",
    "\n",
    "print(resultsC13.info())\n",
    "print(resultsC13.head(100))\n",
    "ax1 = resultsC13.plot.scatter(x='NN_abslfc', y='MPRA_abslfc', c='DarkBlue')\n",
    "print(resultsC13['NN_abslfc'].corr(resultsC13['MPRA_abslfc']))"
   ]
  },
  {
   "cell_type": "code",
   "execution_count": 15,
   "metadata": {},
   "outputs": [
    {
     "name": "stdout",
     "output_type": "stream",
     "text": [
      "<class 'pandas.core.frame.DataFrame'>\n",
      "RangeIndex: 1877 entries, 0 to 1876\n",
      "Data columns (total 4 columns):\n",
      " #   Column         Non-Null Count  Dtype  \n",
      "---  ------         --------------  -----  \n",
      " 0   NN_abslfc      1877 non-null   float64\n",
      " 1   MPRA_abslfc    1877 non-null   float64\n",
      " 2   NN_metadata    1877 non-null   object \n",
      " 3   MPRA_metadata  1877 non-null   object \n",
      "dtypes: float64(2), object(2)\n",
      "memory usage: 58.8+ KB\n",
      "None\n",
      "    NN_abslfc  MPRA_abslfc                                        NN_metadata  \\\n",
      "0    0.022017     0.024152  9_rs10207628_var_stdWin_A.9_rs10207628_var_std...   \n",
      "1    0.010129     0.026611  9_rs10207628_var_optWin_A.9_rs10207628_var_opt...   \n",
      "2    0.045857     0.029010  9_rs10207628_ref_stdWin_A.9_rs10207628_var_std...   \n",
      "3    0.067873     0.054821  9_rs10207628_ref_stdWin_A.9_rs10207628_var_std...   \n",
      "4    0.043260     0.027086  9_rs10207628_ref_optWin_A.9_rs10207628_var_opt...   \n",
      "..        ...          ...                                                ...   \n",
      "95   0.006887     0.033236  946_rs6684490_ref_optWin_A.946_rs6684490_var_o...   \n",
      "96   0.009008     0.028279  945_rs668071_ref_stdWin_A.945_rs668071_var_std...   \n",
      "97   0.007387     0.061581  945_rs668071_ref_optWin_A.945_rs668071_var_opt...   \n",
      "98   0.037296     0.013192  944_rs667897_ref_stdWin_A.944_rs667897_var_std...   \n",
      "99   0.026502     0.108506  943_rs6658353_ref_optWin_A.943_rs6658353_var_o...   \n",
      "\n",
      "                                        MPRA_metadata  \n",
      "0   9_rs10207628_var_stdWin_A.9_rs10207628_var_std...  \n",
      "1   9_rs10207628_var_optWin_A.9_rs10207628_var_opt...  \n",
      "2   9_rs10207628_ref_stdWin_A.9_rs10207628_var_std...  \n",
      "3   9_rs10207628_ref_stdWin_A.9_rs10207628_var_std...  \n",
      "4   9_rs10207628_ref_optWin_A.9_rs10207628_var_opt...  \n",
      "..                                                ...  \n",
      "95  946_rs6684490_ref_optWin_A.946_rs6684490_var_o...  \n",
      "96  945_rs668071_ref_stdWin_A.945_rs668071_var_std...  \n",
      "97  945_rs668071_ref_optWin_A.945_rs668071_var_opt...  \n",
      "98  944_rs667897_ref_stdWin_A.944_rs667897_var_std...  \n",
      "99  943_rs6658353_ref_optWin_A.943_rs6658353_var_o...  \n",
      "\n",
      "[100 rows x 4 columns]\n",
      "0.01671899567709163\n"
     ]
    },
    {
     "data": {
      "image/png": "[encoded data removed]",
      "text/plain": [
       "<Figure size 432x288 with 1 Axes>"
      ]
     },
     "metadata": {
      "needs_background": "light"
     },
     "output_type": "display_data"
    }
   ],
   "source": [
    "resultsC19 = pd.DataFrame()\n",
    "resultsC19['NN_abslfc'] = C19['abs_lfc']\n",
    "resultsC19['MPRA_abslfc'] = mpra_peaks_reindex['abslfc']\n",
    "resultsC19['NN_metadata'] = C19['metadata']\n",
    "resultsC19['MPRA_metadata'] = mpra_peaks_reindex['metadata']\n",
    "\n",
    "print(resultsC19.info())\n",
    "print(resultsC19.head(100))\n",
    "ax1 = resultsC19.plot.scatter(x='NN_abslfc', y='MPRA_abslfc', c='DarkBlue')\n",
    "print(resultsC19['NN_abslfc'].corr(resultsC19['MPRA_abslfc']))"
   ]
  },
  {
   "cell_type": "code",
   "execution_count": 17,
   "metadata": {},
   "outputs": [
    {
     "name": "stdout",
     "output_type": "stream",
     "text": [
      "<class 'pandas.core.frame.DataFrame'>\n",
      "RangeIndex: 1877 entries, 0 to 1876\n",
      "Data columns (total 4 columns):\n",
      " #   Column         Non-Null Count  Dtype  \n",
      "---  ------         --------------  -----  \n",
      " 0   NN_abslfc      1877 non-null   float64\n",
      " 1   MPRA_abslfc    1877 non-null   float64\n",
      " 2   NN_metadata    1877 non-null   object \n",
      " 3   MPRA_metadata  1877 non-null   object \n",
      "dtypes: float64(2), object(2)\n",
      "memory usage: 58.8+ KB\n",
      "None\n",
      "    NN_abslfc  MPRA_abslfc                                        NN_metadata  \\\n",
      "0    1.020164     1.024446  9_rs10207628_var_stdWin_A.9_rs10207628_var_std...   \n",
      "1    1.014236     1.026968  9_rs10207628_var_optWin_A.9_rs10207628_var_opt...   \n",
      "2    1.027314     1.029435  9_rs10207628_ref_stdWin_A.9_rs10207628_var_std...   \n",
      "3    1.048028     1.056352  9_rs10207628_ref_stdWin_A.9_rs10207628_var_std...   \n",
      "4    1.028768     1.027456  9_rs10207628_ref_optWin_A.9_rs10207628_var_opt...   \n",
      "..        ...          ...                                                ...   \n",
      "95   1.032160     1.033794  946_rs6684490_ref_optWin_A.946_rs6684490_var_o...   \n",
      "96   1.010283     1.028682  945_rs668071_ref_stdWin_A.945_rs668071_var_std...   \n",
      "97   1.011155     1.063517  945_rs668071_ref_optWin_A.945_rs668071_var_opt...   \n",
      "98   1.012545     1.013280  944_rs667897_ref_stdWin_A.944_rs667897_var_std...   \n",
      "99   1.010422     1.114611  943_rs6658353_ref_optWin_A.943_rs6658353_var_o...   \n",
      "\n",
      "                                        MPRA_metadata  \n",
      "0   9_rs10207628_var_stdWin_A.9_rs10207628_var_std...  \n",
      "1   9_rs10207628_var_optWin_A.9_rs10207628_var_opt...  \n",
      "2   9_rs10207628_ref_stdWin_A.9_rs10207628_var_std...  \n",
      "3   9_rs10207628_ref_stdWin_A.9_rs10207628_var_std...  \n",
      "4   9_rs10207628_ref_optWin_A.9_rs10207628_var_opt...  \n",
      "..                                                ...  \n",
      "95  946_rs6684490_ref_optWin_A.946_rs6684490_var_o...  \n",
      "96  945_rs668071_ref_stdWin_A.945_rs668071_var_std...  \n",
      "97  945_rs668071_ref_optWin_A.945_rs668071_var_opt...  \n",
      "98  944_rs667897_ref_stdWin_A.944_rs667897_var_std...  \n",
      "99  943_rs6658353_ref_optWin_A.943_rs6658353_var_o...  \n",
      "\n",
      "[100 rows x 4 columns]\n",
      "0.03751558589793118\n"
     ]
    },
    {
     "data": {
      "image/png": "[encoded data removed]",
      "text/plain": [
       "<Figure size 432x288 with 1 Axes>"
      ]
     },
     "metadata": {
      "needs_background": "light"
     },
     "output_type": "display_data"
    }
   ],
   "source": [
    "resultsC24 = pd.DataFrame()\n",
    "resultsC24['NN_abslfc'] = np.exp(C24['abs_lfc'])\n",
    "resultsC24['MPRA_abslfc'] = np.exp(mpra_peaks_reindex['abslfc'])\n",
    "resultsC24['NN_metadata'] = C24['metadata']\n",
    "resultsC24['MPRA_metadata'] = mpra_peaks_reindex['metadata']\n",
    "\n",
    "print(resultsC24.info())\n",
    "print(resultsC24.head(100))\n",
    "ax1 = resultsC24.plot.scatter(x='NN_abslfc', y='MPRA_abslfc', c='DarkBlue')\n",
    "print(resultsC24['NN_abslfc'].corr(resultsC24['MPRA_abslfc']))"
   ]
  },
  {
   "cell_type": "code",
   "execution_count": null,
   "metadata": {},
   "outputs": [],
   "source": []
  }
 ],
 "metadata": {
  "kernelspec": {
   "display_name": "Python 3.8.10 ('base')",
   "language": "python",
   "name": "python3"
  },
  "language_info": {
   "codemirror_mode": {
    "name": "ipython",
    "version": 3
   },
   "file_extension": ".py",
   "mimetype": "text/x-python",
   "name": "python",
   "nbconvert_exporter": "python",
   "pygments_lexer": "ipython3",
   "version": "3.8.10"
  },
  "orig_nbformat": 4,
  "vscode": {
   "interpreter": {
    "hash": "078d3225eb53b123996ee15d488db70fe8c67e8f708fad3b97693fd16a58ae9d"
   }
  }
 },
 "nbformat": 4,
 "nbformat_minor": 2
}
